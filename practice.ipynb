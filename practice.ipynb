{
  "nbformat": 4,
  "nbformat_minor": 0,
  "metadata": {
    "colab": {
      "provenance": [],
      "authorship_tag": "ABX9TyM5QvySAw8TQoYs2nW59Tod",
      "include_colab_link": true
    },
    "kernelspec": {
      "name": "python3",
      "display_name": "Python 3"
    },
    "language_info": {
      "name": "python"
    }
  },
  "cells": [
    {
      "cell_type": "markdown",
      "metadata": {
        "id": "view-in-github",
        "colab_type": "text"
      },
      "source": [
        "<a href=\"https://colab.research.google.com/github/Ruchir1218/Portfolio_Projects/blob/main/practice.ipynb\" target=\"_parent\"><img src=\"https://colab.research.google.com/assets/colab-badge.svg\" alt=\"Open In Colab\"/></a>"
      ]
    },
    {
      "cell_type": "markdown",
      "source": [
        "Pyspark questions practice"
      ],
      "metadata": {
        "id": "SV7JLIHeOi-d"
      }
    },
    {
      "cell_type": "code",
      "source": [
        "# Read a file and count word frequency in that file\n",
        "\n",
        "from pyspark.sql import SparkSession\n",
        "from pyspark.sql.functions import explode, split, col\n",
        "\n",
        "spark = SparkSession.builder.appName(\"WordCount\").getOrCreate()\n",
        "\n",
        "# Read the file\n",
        "df = spark.read.text(\"data/sample.txt\")\n",
        "\n",
        "# Split the text into words\n",
        "words = df.select(explode(split(col(\"value\"), \" \")).alias(\"word\"))"
      ],
      "metadata": {
        "id": "Ug2V-s-FOstY"
      },
      "execution_count": 1,
      "outputs": []
    }
  ]
}